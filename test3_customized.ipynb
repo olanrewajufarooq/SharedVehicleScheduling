{
 "cells": [
  {
   "cell_type": "code",
   "execution_count": null,
   "metadata": {},
   "outputs": [],
   "source": [
    "import solution\n",
    "import glob"
   ]
  },
  {
   "cell_type": "code",
   "execution_count": null,
   "metadata": {
    "tags": []
   },
   "outputs": [],
   "source": [
    "count = 0\n",
    "\n",
    "for file_name in glob.glob(\"./PublicData3/*.dat\"):\n",
    "    \n",
    "    if count in [6, 7, 8, 9]:\n",
    "        count += 1\n",
    "        continue\n",
    "    \n",
    "    print(f\"\\n\\nExercise {count}:\")\n",
    "    \n",
    "    autoScheduler = solution.FleetProblem() # Initialize the problem\n",
    "    \n",
    "    with open(file_name, \"r\") as f: \n",
    "        autoScheduler.load(f) # Load the file\n",
    "        \n",
    "    print(autoScheduler)\n",
    "    \n",
    "    sol = autoScheduler.solve(display_solutions=True) # Solving the problem\n",
    "    \n",
    "    count += 1"
   ]
  }
 ],
 "metadata": {
  "kernelspec": {
   "display_name": "Python 3",
   "language": "python",
   "name": "python3"
  },
  "language_info": {
   "codemirror_mode": {
    "name": "ipython",
    "version": 3
   },
   "file_extension": ".py",
   "mimetype": "text/x-python",
   "name": "python",
   "nbconvert_exporter": "python",
   "pygments_lexer": "ipython3",
   "version": "3.11.0"
  },
  "orig_nbformat": 4
 },
 "nbformat": 4,
 "nbformat_minor": 2
}
