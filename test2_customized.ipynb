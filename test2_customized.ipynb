{
 "cells": [
  {
   "cell_type": "code",
   "execution_count": 7,
   "metadata": {},
   "outputs": [],
   "source": [
    "import solution\n",
    "import glob"
   ]
  },
  {
   "cell_type": "code",
   "execution_count": 8,
   "metadata": {},
   "outputs": [
    {
     "name": "stdout",
     "output_type": "stream",
     "text": [
      "\n",
      "=================================================\n",
      "Number of Points: 4.\n",
      "P matrix: \n",
      "[[ 0. 20. 30. 40.]\n",
      " [20.  0. 50. 60.]\n",
      " [30. 50.  0. 70.]\n",
      " [40. 60. 70.  0.]]\n",
      "\n",
      "Number of Requests: 5.\n",
      "Request Data: {0: [10.0, 1, 2, 1], 1: [15.0, 1, 3, 1], 2: [16.0, 2, 3, 1], 3: [20.0, 2, 1, 1], 4: [25.0, 1, 2, 2]}\n",
      "\n",
      "Number of Vehicles: 2.\n",
      "Max passenger capacity: [4, 5]\n",
      "=================================================\n",
      "\n"
     ]
    },
    {
     "data": {
      "text/plain": [
       "[('Pickup', 1, 0, 20.0),\n",
       " ('Pickup', 0, 2, 30.0),\n",
       " ('Pickup', 1, 1, 20.0),\n",
       " ('Pickup', 1, 3, 70.0),\n",
       " ('Dropoff', 1, 0, 70.0),\n",
       " ('Pickup', 1, 4, 70.0),\n",
       " ('Dropoff', 1, 3, 70.0),\n",
       " ('Dropoff', 1, 4, 70.0),\n",
       " ('Dropoff', 0, 2, 100.0),\n",
       " ('Dropoff', 1, 1, 130.0)]"
      ]
     },
     "execution_count": 8,
     "metadata": {},
     "output_type": "execute_result"
    }
   ],
   "source": [
    "autoScheduler = solution.FleetProblem() # Initialize the problem\n",
    "with open(\"input.txt\", \"r\") as f: \n",
    "    autoScheduler.load(f) # Load the file\n",
    "    \n",
    "# print(autoScheduler.initial.__copy__())\n",
    "# print(autoScheduler.goal)\n",
    "\n",
    "print(autoScheduler)\n",
    "\n",
    "autoScheduler.solve()"
   ]
  },
  {
   "cell_type": "code",
   "execution_count": 9,
   "metadata": {
    "tags": []
   },
   "outputs": [
    {
     "name": "stdout",
     "output_type": "stream",
     "text": [
      "\n",
      "\n",
      "Exercise 1:\n",
      "Algorithm Solution: [('Pickup', 0, 0, 20.0), ('Dropoff', 0, 0, 60.0)]\n",
      "Real Solution: [('Pickup', 0, 0, 20.0), ('Dropoff', 0, 0, 60.0)]\n",
      "\n",
      "\n",
      "\n",
      "Exercise 2:\n",
      "Algorithm Solution: [('Pickup', 1, 1, 20.0), ('Dropoff', 1, 1, 80.0), ('Pickup', 0, 2, 30.0), ('Pickup', 1, 0, 80.0), ('Dropoff', 0, 2, 100.0), ('Dropoff', 1, 0, 130.0)]\n",
      "Real Solution: [('Pickup', 1, 2, 70.0), ('Dropoff', 1, 0, 70.0), ('Pickup', 1, 0, 20.0), ('Dropoff', 0, 1, 80.0), ('Dropoff', 1, 2, 140.0), ('Pickup', 0, 1, 20.0)]\n",
      "\n",
      "\n",
      "\n",
      "Exercise 3:\n",
      "Algorithm Solution: [('Pickup', 1, 0, 20.0), ('Pickup', 1, 3, 70.0), ('Pickup', 0, 1, 20.0), ('Dropoff', 0, 1, 80.0), ('Dropoff', 1, 0, 70.0), ('Dropoff', 1, 3, 70.0), ('Pickup', 1, 2, 70.0), ('Dropoff', 1, 2, 140.0)]\n",
      "Real Solution: [('Dropoff', 0, 0, 70.0), ('Pickup', 0, 1, 20.0), ('Dropoff', 0, 2, 140.0), ('Pickup', 0, 0, 20.0), ('Pickup', 0, 2, 70.0), ('Dropoff', 0, 1, 140.0), ('Pickup', 1, 3, 30.0), ('Dropoff', 1, 3, 80.0)]\n",
      "\n",
      "\n",
      "\n",
      "Exercise 4:\n",
      "Algorithm Solution: [('Pickup', 1, 0, 20.0), ('Pickup', 0, 2, 30.0), ('Pickup', 1, 1, 20.0), ('Pickup', 1, 3, 70.0), ('Dropoff', 1, 0, 70.0), ('Pickup', 1, 4, 70.0), ('Dropoff', 1, 3, 70.0), ('Dropoff', 1, 4, 70.0), ('Dropoff', 0, 2, 100.0), ('Dropoff', 1, 1, 130.0)]\n",
      "Real Solution: [('Dropoff', 0, 3, 80.0), ('Pickup', 0, 1, 80.0), ('Dropoff', 0, 2, 140.0), ('Dropoff', 1, 0, 75.0), ('Dropoff', 0, 1, 140.0), ('Pickup', 1, 0, 25.0), ('Pickup', 0, 2, 30.0), ('Pickup', 0, 3, 30.0), ('Dropoff', 1, 4, 75.0), ('Pickup', 1, 4, 25.0)]\n",
      "\n",
      "\n",
      "\n",
      "Exercise 5:\n"
     ]
    }
   ],
   "source": [
    "count = 0\n",
    "\n",
    "for file_name in glob.glob(\"./PublicData1/*.dat\"):\n",
    "    count += 1\n",
    "    print(f\"\\n\\nExercise {count}:\")\n",
    "    autoScheduler = solution.FleetProblem() # Initialize the problem\n",
    "    with open(file_name, \"r\") as f: \n",
    "        autoScheduler.load(f) # Load the file\n",
    "    \n",
    "    sol = autoScheduler.solve() # Solving the problem\n",
    "    print(f\"Algorithm Solution: {sol}\")\n",
    "    \n",
    "    with open( file_name.replace(\".dat\", \".plan\"), \"r\" ) as f:\n",
    "        real_sol = f.readlines()[0]\n",
    "    \n",
    "    print(f\"Real Solution: {real_sol}\\n\")"
   ]
  },
  {
   "cell_type": "code",
   "execution_count": null,
   "metadata": {},
   "outputs": [],
   "source": [
    "# count = 0\n",
    "# for file_name in glob.glob(\"./PublicData2/*.dat\"):\n",
    "#     print(f\"\\n\\nExercise {count}:\")\n",
    "#     autoScheduler = solution.FleetProblem() # Initialize the problem\n",
    "#     with open(file_name, \"r\") as f: \n",
    "#         autoScheduler.load(f) # Load the file\n",
    "    \n",
    "#     sol = autoScheduler.solve() # Solving the problem\n",
    "#     print(autoScheduler)\n",
    "#     print(f\"Algorithm Solution: {sol}\")\n",
    "    \n",
    "#     count += 1"
   ]
  }
 ],
 "metadata": {
  "kernelspec": {
   "display_name": "Python 3",
   "language": "python",
   "name": "python3"
  },
  "language_info": {
   "codemirror_mode": {
    "name": "ipython",
    "version": 3
   },
   "file_extension": ".py",
   "mimetype": "text/x-python",
   "name": "python",
   "nbconvert_exporter": "python",
   "pygments_lexer": "ipython3",
   "version": "3.11.0"
  },
  "orig_nbformat": 4
 },
 "nbformat": 4,
 "nbformat_minor": 2
}
