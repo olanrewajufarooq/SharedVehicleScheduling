{
 "cells": [
  {
   "cell_type": "code",
   "execution_count": null,
   "metadata": {},
   "outputs": [],
   "source": [
    "import solution\n",
    "import glob"
   ]
  },
  {
   "cell_type": "code",
   "execution_count": null,
   "metadata": {
    "tags": []
   },
   "outputs": [],
   "source": [
    "# count = 0\n",
    "\n",
    "# for file_name in glob.glob(\"./PublicData1/*.dat\"):\n",
    "#     count += 1\n",
    "#     print(f\"\\n\\nExercise {count}:\")\n",
    "#     autoScheduler = solution.FleetProblem() # Initialize the problem\n",
    "#     with open(file_name, \"r\") as f: \n",
    "#         autoScheduler.load(f) # Load the file\n",
    "    \n",
    "#     sol = autoScheduler.solve() # Solving the problem\n",
    "#     print(f\"Algorithm Solution: {sol}\")\n",
    "    \n",
    "#     with open( file_name.replace(\".dat\", \".plan\"), \"r\" ) as f:\n",
    "#         real_sol = f.readlines()[0]\n",
    "    \n",
    "#     print(f\"Real Solution: {real_sol}\\n\")"
   ]
  },
  {
   "cell_type": "code",
   "execution_count": null,
   "metadata": {},
   "outputs": [],
   "source": [
    "count = 0\n",
    "for file_name in glob.glob(\"./PublicData2/*.dat\"):\n",
    "    print(f\"\\n\\nExercise {count}:\")\n",
    "    autoScheduler = solution.FleetProblem() # Initialize the problem\n",
    "    with open(file_name, \"r\") as f: \n",
    "        autoScheduler.load(f) # Load the file\n",
    "    \n",
    "    sol = autoScheduler.solve() # Solving the problem\n",
    "    print(autoScheduler)\n",
    "    print(f\"Algorithm Solution: {sol}\")\n",
    "    \n",
    "    count += 1"
   ]
  }
 ],
 "metadata": {
  "kernelspec": {
   "display_name": "Python 3",
   "language": "python",
   "name": "python3"
  },
  "language_info": {
   "codemirror_mode": {
    "name": "ipython",
    "version": 3
   },
   "file_extension": ".py",
   "mimetype": "text/x-python",
   "name": "python",
   "nbconvert_exporter": "python",
   "pygments_lexer": "ipython3",
   "version": "3.11.0"
  },
  "orig_nbformat": 4
 },
 "nbformat": 4,
 "nbformat_minor": 2
}
