{
 "cells": [
  {
   "cell_type": "code",
   "execution_count": 34,
   "metadata": {},
   "outputs": [],
   "source": [
    "import solution\n",
    "\n",
    "autoScheduler = solution.FleetProblem()\n",
    "\n",
    "f = open(\"input.txt\", 'r')\n",
    "autoScheduler.load(f)\n",
    "f.close()\n"
   ]
  },
  {
   "cell_type": "code",
   "execution_count": 24,
   "metadata": {},
   "outputs": [
    {
     "name": "stdout",
     "output_type": "stream",
     "text": [
      "\n",
      "\n",
      "Exercise 1:\n"
     ]
    },
    {
     "ename": "ValueError",
     "evalue": "list.remove(x): x not in list",
     "output_type": "error",
     "traceback": [
      "\u001b[1;31m---------------------------------------------------------------------------\u001b[0m",
      "\u001b[1;31mValueError\u001b[0m                                Traceback (most recent call last)",
      "\u001b[1;32mc:\\Users\\olanr\\Downloads\\SharedVehicleScheduling\\test2_customized.ipynb Cell 2\u001b[0m line \u001b[0;36m1\n\u001b[0;32m     <a href='vscode-notebook-cell:/c%3A/Users/olanr/Downloads/SharedVehicleScheduling/test2_customized.ipynb#W6sZmlsZQ%3D%3D?line=9'>10</a>\u001b[0m \u001b[39mwith\u001b[39;00m \u001b[39mopen\u001b[39m(file_name, \u001b[39m\"\u001b[39m\u001b[39mr\u001b[39m\u001b[39m\"\u001b[39m) \u001b[39mas\u001b[39;00m f: \n\u001b[0;32m     <a href='vscode-notebook-cell:/c%3A/Users/olanr/Downloads/SharedVehicleScheduling/test2_customized.ipynb#W6sZmlsZQ%3D%3D?line=10'>11</a>\u001b[0m     autoScheduler\u001b[39m.\u001b[39mload(f) \u001b[39m# Load the file\u001b[39;00m\n\u001b[1;32m---> <a href='vscode-notebook-cell:/c%3A/Users/olanr/Downloads/SharedVehicleScheduling/test2_customized.ipynb#W6sZmlsZQ%3D%3D?line=12'>13</a>\u001b[0m sol \u001b[39m=\u001b[39m autoScheduler\u001b[39m.\u001b[39;49msolve() \u001b[39m# Solving the problem\u001b[39;00m\n\u001b[0;32m     <a href='vscode-notebook-cell:/c%3A/Users/olanr/Downloads/SharedVehicleScheduling/test2_customized.ipynb#W6sZmlsZQ%3D%3D?line=13'>14</a>\u001b[0m \u001b[39mprint\u001b[39m(\u001b[39mf\u001b[39m\u001b[39m\"\u001b[39m\u001b[39mAlgorithm Solution: \u001b[39m\u001b[39m{\u001b[39;00msol\u001b[39m}\u001b[39;00m\u001b[39m\"\u001b[39m)\n\u001b[0;32m     <a href='vscode-notebook-cell:/c%3A/Users/olanr/Downloads/SharedVehicleScheduling/test2_customized.ipynb#W6sZmlsZQ%3D%3D?line=15'>16</a>\u001b[0m \u001b[39mwith\u001b[39;00m \u001b[39mopen\u001b[39m( file_name\u001b[39m.\u001b[39mreplace(\u001b[39m\"\u001b[39m\u001b[39m.dat\u001b[39m\u001b[39m\"\u001b[39m, \u001b[39m\"\u001b[39m\u001b[39m.plan\u001b[39m\u001b[39m\"\u001b[39m), \u001b[39m\"\u001b[39m\u001b[39mr\u001b[39m\u001b[39m\"\u001b[39m ) \u001b[39mas\u001b[39;00m f:\n",
      "File \u001b[1;32mc:\\Users\\olanr\\Downloads\\SharedVehicleScheduling\\solution.py:230\u001b[0m, in \u001b[0;36msolve\u001b[1;34m(self)\u001b[0m\n\u001b[0;32m    226\u001b[0m     \u001b[39m# Path cost of previous state + time to travel from previous state to new state\u001b[39;00m\n\u001b[0;32m    227\u001b[0m     \u001b[39mreturn\u001b[39;00m c \u001b[39m+\u001b[39m ( state2[\u001b[39m\"\u001b[39m\u001b[39mV\u001b[39m\u001b[39m\"\u001b[39m][veh_id][\u001b[39m\"\u001b[39m\u001b[39mtime\u001b[39m\u001b[39m\"\u001b[39m] \u001b[39m-\u001b[39m state1[\u001b[39m\"\u001b[39m\u001b[39mV\u001b[39m\u001b[39m\"\u001b[39m][veh_id][\u001b[39m\"\u001b[39m\u001b[39mtime\u001b[39m\u001b[39m\"\u001b[39m] )\n\u001b[1;32m--> 230\u001b[0m \u001b[39mdef\u001b[39;00m \u001b[39msolve\u001b[39m(\u001b[39mself\u001b[39m):\n\u001b[0;32m    231\u001b[0m     goal_node \u001b[39m=\u001b[39m search\u001b[39m.\u001b[39mdepth_limited_search(\u001b[39mself\u001b[39m, limit\u001b[39m=\u001b[39m\u001b[39mself\u001b[39m\u001b[39m.\u001b[39mno_of_requests\u001b[39m*\u001b[39m\u001b[39m2\u001b[39m)\n\u001b[0;32m    232\u001b[0m     \u001b[39mreturn\u001b[39;00m goal_node\u001b[39m.\u001b[39msolution()\n",
      "File \u001b[1;32mc:\\Users\\olanr\\Downloads\\SharedVehicleScheduling\\search.py:320\u001b[0m, in \u001b[0;36miterative_deepening_search\u001b[1;34m(problem)\u001b[0m\n\u001b[0;32m    318\u001b[0m \u001b[39m\"\"\"[Figure 3.18]\"\"\"\u001b[39;00m\n\u001b[0;32m    319\u001b[0m \u001b[39mfor\u001b[39;00m depth \u001b[39min\u001b[39;00m \u001b[39mrange\u001b[39m(sys\u001b[39m.\u001b[39mmaxsize):\n\u001b[1;32m--> 320\u001b[0m     result \u001b[39m=\u001b[39m depth_limited_search(problem, depth)\n\u001b[0;32m    321\u001b[0m     \u001b[39mif\u001b[39;00m result \u001b[39m!=\u001b[39m \u001b[39m'\u001b[39m\u001b[39mcutoff\u001b[39m\u001b[39m'\u001b[39m:\n\u001b[0;32m    322\u001b[0m         \u001b[39mreturn\u001b[39;00m result\n",
      "File \u001b[1;32mc:\\Users\\olanr\\Downloads\\SharedVehicleScheduling\\search.py:314\u001b[0m, in \u001b[0;36mdepth_limited_search\u001b[1;34m(problem, limit)\u001b[0m\n\u001b[0;32m    311\u001b[0m         \u001b[39mreturn\u001b[39;00m \u001b[39m'\u001b[39m\u001b[39mcutoff\u001b[39m\u001b[39m'\u001b[39m \u001b[39mif\u001b[39;00m cutoff_occurred \u001b[39melse\u001b[39;00m \u001b[39mNone\u001b[39;00m\n\u001b[0;32m    313\u001b[0m \u001b[39m# Body of depth_limited_search:\u001b[39;00m\n\u001b[1;32m--> 314\u001b[0m \u001b[39mreturn\u001b[39;00m recursive_dls(Node(problem\u001b[39m.\u001b[39;49minitial), problem, limit)\n",
      "File \u001b[1;32mc:\\Users\\olanr\\Downloads\\SharedVehicleScheduling\\search.py:305\u001b[0m, in \u001b[0;36mdepth_limited_search.<locals>.recursive_dls\u001b[1;34m(node, problem, limit)\u001b[0m\n\u001b[0;32m    303\u001b[0m \u001b[39melse\u001b[39;00m:\n\u001b[0;32m    304\u001b[0m     cutoff_occurred \u001b[39m=\u001b[39m \u001b[39mFalse\u001b[39;00m\n\u001b[1;32m--> 305\u001b[0m     \u001b[39mfor\u001b[39;00m child \u001b[39min\u001b[39;00m node\u001b[39m.\u001b[39;49mexpand(problem):\n\u001b[0;32m    306\u001b[0m         result \u001b[39m=\u001b[39m recursive_dls(child, problem, limit \u001b[39m-\u001b[39m \u001b[39m1\u001b[39m)\n\u001b[0;32m    307\u001b[0m         \u001b[39mif\u001b[39;00m result \u001b[39m==\u001b[39m \u001b[39m'\u001b[39m\u001b[39mcutoff\u001b[39m\u001b[39m'\u001b[39m:\n",
      "File \u001b[1;32mc:\\Users\\olanr\\Downloads\\SharedVehicleScheduling\\search.py:96\u001b[0m, in \u001b[0;36mNode.expand\u001b[1;34m(self, problem)\u001b[0m\n\u001b[0;32m     94\u001b[0m \u001b[39mdef\u001b[39;00m \u001b[39mexpand\u001b[39m(\u001b[39mself\u001b[39m, problem):\n\u001b[0;32m     95\u001b[0m     \u001b[39m\"\"\"List the nodes reachable in one step from this node.\"\"\"\u001b[39;00m\n\u001b[1;32m---> 96\u001b[0m     \u001b[39mreturn\u001b[39;00m [\u001b[39mself\u001b[39;49m\u001b[39m.\u001b[39;49mchild_node(problem, action)\n\u001b[0;32m     97\u001b[0m             \u001b[39mfor\u001b[39;49;00m action \u001b[39min\u001b[39;49;00m problem\u001b[39m.\u001b[39;49mactions(\u001b[39mself\u001b[39;49m\u001b[39m.\u001b[39;49mstate)]\n",
      "File \u001b[1;32mc:\\Users\\olanr\\Downloads\\SharedVehicleScheduling\\search.py:96\u001b[0m, in \u001b[0;36m<listcomp>\u001b[1;34m(.0)\u001b[0m\n\u001b[0;32m     94\u001b[0m \u001b[39mdef\u001b[39;00m \u001b[39mexpand\u001b[39m(\u001b[39mself\u001b[39m, problem):\n\u001b[0;32m     95\u001b[0m     \u001b[39m\"\"\"List the nodes reachable in one step from this node.\"\"\"\u001b[39;00m\n\u001b[1;32m---> 96\u001b[0m     \u001b[39mreturn\u001b[39;00m [\u001b[39mself\u001b[39;49m\u001b[39m.\u001b[39;49mchild_node(problem, action)\n\u001b[0;32m     97\u001b[0m             \u001b[39mfor\u001b[39;00m action \u001b[39min\u001b[39;00m problem\u001b[39m.\u001b[39mactions(\u001b[39mself\u001b[39m\u001b[39m.\u001b[39mstate)]\n",
      "File \u001b[1;32mc:\\Users\\olanr\\Downloads\\SharedVehicleScheduling\\search.py:101\u001b[0m, in \u001b[0;36mNode.child_node\u001b[1;34m(self, problem, action)\u001b[0m\n\u001b[0;32m     99\u001b[0m \u001b[39mdef\u001b[39;00m \u001b[39mchild_node\u001b[39m(\u001b[39mself\u001b[39m, problem, action):\n\u001b[0;32m    100\u001b[0m     \u001b[39m\"\"\"[Figure 3.10]\"\"\"\u001b[39;00m\n\u001b[1;32m--> 101\u001b[0m     next_state \u001b[39m=\u001b[39m problem\u001b[39m.\u001b[39;49mresult(\u001b[39mself\u001b[39;49m\u001b[39m.\u001b[39;49mstate, action)\n\u001b[0;32m    102\u001b[0m     next_node \u001b[39m=\u001b[39m Node(next_state, \u001b[39mself\u001b[39m, action, problem\u001b[39m.\u001b[39mpath_cost(\u001b[39mself\u001b[39m\u001b[39m.\u001b[39mpath_cost, \u001b[39mself\u001b[39m\u001b[39m.\u001b[39mstate, action, next_state))\n\u001b[0;32m    103\u001b[0m     \u001b[39mreturn\u001b[39;00m next_node\n",
      "File \u001b[1;32mc:\\Users\\olanr\\Downloads\\SharedVehicleScheduling\\solution.py:186\u001b[0m, in \u001b[0;36mFleetProblem.result\u001b[1;34m(self, state, action)\u001b[0m\n\u001b[0;32m    184\u001b[0m new_state \u001b[39m=\u001b[39m state\n\u001b[0;32m    185\u001b[0m \u001b[39mif\u001b[39;00m action[\u001b[39m0\u001b[39m] \u001b[39m==\u001b[39m \u001b[39m'\u001b[39m\u001b[39mPickup\u001b[39m\u001b[39m'\u001b[39m:\n\u001b[1;32m--> 186\u001b[0m     new_state[\u001b[39m\"\u001b[39;49m\u001b[39mR\u001b[39;49m\u001b[39m\"\u001b[39;49m]\u001b[39m.\u001b[39;49mremove([action[\u001b[39m2\u001b[39;49m]])\n\u001b[0;32m    187\u001b[0m     new_state[\u001b[39m\"\u001b[39m\u001b[39mV\u001b[39m\u001b[39m\"\u001b[39m][action[\u001b[39m1\u001b[39m]]\u001b[39m.\u001b[39mappend(action[\u001b[39m2\u001b[39m])\n\u001b[0;32m    188\u001b[0m \u001b[39melif\u001b[39;00m action[\u001b[39m0\u001b[39m] \u001b[39m==\u001b[39m \u001b[39m'\u001b[39m\u001b[39mDropoff\u001b[39m\u001b[39m'\u001b[39m:\n",
      "\u001b[1;31mValueError\u001b[0m: list.remove(x): x not in list"
     ]
    }
   ],
   "source": [
    "import solution\n",
    "import glob\n",
    "\n",
    "count = 0\n",
    "\n",
    "for file_name in glob.glob(\"./PublicData1/*.dat\"):\n",
    "    count += 1\n",
    "    print(f\"\\n\\nExercise {count}:\")\n",
    "    autoScheduler = solution.FleetProblem() # Initialize the problem\n",
    "    with open(file_name, \"r\") as f: \n",
    "        autoScheduler.load(f) # Load the file\n",
    "    \n",
    "    sol = autoScheduler.solve() # Solving the problem\n",
    "    print(f\"Algorithm Solution: {sol}\")\n",
    "    \n",
    "    with open( file_name.replace(\".dat\", \".plan\"), \"r\" ) as f:\n",
    "        real_sol = f.readlines()[0]\n",
    "    \n",
    "    print(f\"Real Solution: {real_sol}\\n\")"
   ]
  },
  {
   "cell_type": "code",
   "execution_count": 35,
   "metadata": {},
   "outputs": [
    {
     "name": "stdout",
     "output_type": "stream",
     "text": [
      "{'R': [0, 1, 2, 3, 4], 'V': {0: {'time': 0, 'location': 0, 'space_left': 4, 'passengers': []}, 1: {'time': 0, 'location': 0, 'space_left': 5, 'passengers': []}}}\n"
     ]
    }
   ],
   "source": [
    "print(autoScheduler.initial)\n",
    "new_state = autoScheduler.initial\n",
    "action = [\"Pickup\",1,4,75]"
   ]
  },
  {
   "cell_type": "code",
   "execution_count": 36,
   "metadata": {},
   "outputs": [
    {
     "data": {
      "text/plain": [
       "{'R': [0, 1, 2, 3],\n",
       " 'V': {0: {'time': 0, 'location': 0, 'space_left': 4, 'passengers': []},\n",
       "  1: {'time': 75, 'location': 1, 'space_left': 3, 'passengers': [2]}}}"
      ]
     },
     "execution_count": 36,
     "metadata": {},
     "output_type": "execute_result"
    }
   ],
   "source": [
    "if action[0] == 'Pickup':\n",
    "    new_state[\"R\"].remove(action[2]) #Remove request id from state\n",
    "    new_state[\"V\"][action[1]]['time'] = action[-1] #action time\n",
    "    new_state[\"V\"][action[1]]['location'] = autoScheduler.R[action[2]][1] #Pickup Location \n",
    "    new_state[\"V\"][action[1]]['space_left'] -= autoScheduler.R[action[2]][-1]  #adjusting space after pickup \n",
    "    new_state[\"V\"][action[1]]['passengers'].append(autoScheduler.R[action[2]][-1]) #Passengers of this particular request\n",
    "elif action[0] == 'Dropoff':\n",
    "    new_state[\"V\"][action[1]]['time'] = action[-1] #action time\n",
    "    new_state[\"V\"][action[1]]['location'] = autoScheduler.R[action[2]][1] #Dropoff Location \n",
    "    new_state[\"V\"][action[1]]['space_left'] += autoScheduler.R[action[2]][-1]  #adjusting space after pickup \n",
    "    # new_state[\"V\"][action[1]]['passengers'].remove(autoScheduler.R[action[2]][-1]) #Passengers of this particular request\n",
    "new_state"
   ]
  },
  {
   "cell_type": "code",
   "execution_count": null,
   "metadata": {},
   "outputs": [],
   "source": []
  }
 ],
 "metadata": {
  "kernelspec": {
   "display_name": "Python 3",
   "language": "python",
   "name": "python3"
  },
  "language_info": {
   "codemirror_mode": {
    "name": "ipython",
    "version": 3
   },
   "file_extension": ".py",
   "mimetype": "text/x-python",
   "name": "python",
   "nbconvert_exporter": "python",
   "pygments_lexer": "ipython3",
   "version": "3.11.5"
  },
  "orig_nbformat": 4
 },
 "nbformat": 4,
 "nbformat_minor": 2
}
