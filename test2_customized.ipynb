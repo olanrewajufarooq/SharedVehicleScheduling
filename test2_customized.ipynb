{
 "cells": [
  {
   "cell_type": "code",
   "execution_count": 1,
   "metadata": {},
   "outputs": [],
   "source": [
    "import solution\n",
    "\n",
    "autoScheduler = solution.FleetProblem()\n",
    "\n",
    "f = open(\"input.txt\", 'r')\n",
    "autoScheduler.load(f)\n",
    "f.close()\n"
   ]
  },
  {
   "cell_type": "code",
   "execution_count": 5,
   "metadata": {},
   "outputs": [
    {
     "data": {
      "text/plain": [
       "{0: [10.0, 1, 2, 1],\n",
       " 1: [15.0, 1, 3, 1],\n",
       " 2: [16.0, 2, 3, 1],\n",
       " 3: [20.0, 2, 1, 1],\n",
       " 4: [25.0, 1, 2, 2]}"
      ]
     },
     "execution_count": 5,
     "metadata": {},
     "output_type": "execute_result"
    }
   ],
   "source": [
    "autoScheduler.R"
   ]
  },
  {
   "cell_type": "code",
   "execution_count": 2,
   "metadata": {},
   "outputs": [
    {
     "name": "stdout",
     "output_type": "stream",
     "text": [
      "['Pickup', 0, 0, 20.0]\n",
      ".\n",
      "['Pickup', 1, 0, 20.0]\n",
      ".\n",
      "['Pickup', 0, 1, 20.0]\n",
      ".\n",
      "['Pickup', 1, 1, 20.0]\n",
      ".\n",
      "['Pickup', 0, 2, 30.0]\n",
      ".\n",
      "['Pickup', 1, 2, 30.0]\n",
      ".\n",
      "['Pickup', 0, 3, 30.0]\n",
      ".\n",
      "['Pickup', 1, 3, 30.0]\n",
      ".\n",
      "['Pickup', 0, 4, 25.0]\n",
      ".\n",
      "['Pickup', 1, 4, 25.0]\n",
      ".\n"
     ]
    }
   ],
   "source": [
    "for action in autoScheduler.actions(autoScheduler.initial):\n",
    "    print(action)\n",
    "    print(\".\")"
   ]
  }
 ],
 "metadata": {
  "kernelspec": {
   "display_name": "Python 3",
   "language": "python",
   "name": "python3"
  },
  "language_info": {
   "codemirror_mode": {
    "name": "ipython",
    "version": 3
   },
   "file_extension": ".py",
   "mimetype": "text/x-python",
   "name": "python",
   "nbconvert_exporter": "python",
   "pygments_lexer": "ipython3",
   "version": "3.11.0"
  },
  "orig_nbformat": 4
 },
 "nbformat": 4,
 "nbformat_minor": 2
}
