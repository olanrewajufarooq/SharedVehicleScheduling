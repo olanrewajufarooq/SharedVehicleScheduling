{
 "cells": [
  {
   "cell_type": "code",
   "execution_count": 34,
   "metadata": {},
   "outputs": [],
   "source": [
    "import solution\n",
    "\n",
    "autoScheduler = solution.FleetProblem()\n",
    "\n",
    "f = open(\"input.txt\", 'r')\n",
    "autoScheduler.load(f)\n",
    "f.close()\n"
   ]
  },
  {
   "cell_type": "code",
   "execution_count": 2,
   "metadata": {},
   "outputs": [
    {
     "data": {
      "text/plain": [
       "{0: [10.0, 1, 2, 1],\n",
       " 1: [15.0, 1, 3, 1],\n",
       " 2: [16.0, 2, 3, 1],\n",
       " 3: [20.0, 2, 1, 1],\n",
       " 4: [25.0, 1, 2, 2]}"
      ]
     },
     "execution_count": 2,
     "metadata": {},
     "output_type": "execute_result"
    }
   ],
   "source": [
    "autoScheduler.R"
   ]
  },
  {
   "cell_type": "code",
   "execution_count": 3,
   "metadata": {},
   "outputs": [
    {
     "name": "stdout",
     "output_type": "stream",
     "text": [
      "['Pickup', 0, 0, 20.0]\n",
      ".\n",
      "['Pickup', 1, 0, 20.0]\n",
      ".\n",
      "['Pickup', 0, 1, 20.0]\n",
      ".\n",
      "['Pickup', 1, 1, 20.0]\n",
      ".\n",
      "['Pickup', 0, 2, 30.0]\n",
      ".\n",
      "['Pickup', 1, 2, 30.0]\n",
      ".\n",
      "['Pickup', 0, 3, 30.0]\n",
      ".\n",
      "['Pickup', 1, 3, 30.0]\n",
      ".\n",
      "['Pickup', 0, 4, 25.0]\n",
      ".\n",
      "['Pickup', 1, 4, 25.0]\n",
      ".\n"
     ]
    }
   ],
   "source": [
    "for action in autoScheduler.actions(autoScheduler.initial):\n",
    "    print(action)\n",
    "    print(\".\")"
   ]
  },
  {
   "cell_type": "code",
   "execution_count": 35,
   "metadata": {},
   "outputs": [
    {
     "name": "stdout",
     "output_type": "stream",
     "text": [
      "{'R': [0, 1, 2, 3, 4], 'V': {0: {'time': 0, 'location': 0, 'space_left': 4, 'passengers': []}, 1: {'time': 0, 'location': 0, 'space_left': 5, 'passengers': []}}}\n"
     ]
    }
   ],
   "source": [
    "print(autoScheduler.initial)\n",
    "new_state = autoScheduler.initial\n",
    "action = [\"Pickup\",1,4,75]"
   ]
  },
  {
   "cell_type": "code",
   "execution_count": 36,
   "metadata": {},
   "outputs": [
    {
     "data": {
      "text/plain": [
       "{'R': [0, 1, 2, 3],\n",
       " 'V': {0: {'time': 0, 'location': 0, 'space_left': 4, 'passengers': []},\n",
       "  1: {'time': 75, 'location': 1, 'space_left': 3, 'passengers': [2]}}}"
      ]
     },
     "execution_count": 36,
     "metadata": {},
     "output_type": "execute_result"
    }
   ],
   "source": [
    "if action[0] == 'Pickup':\n",
    "    new_state[\"R\"].remove(action[2]) #Remove request id from state\n",
    "    new_state[\"V\"][action[1]]['time'] = action[-1] #action time\n",
    "    new_state[\"V\"][action[1]]['location'] = autoScheduler.R[action[2]][1] #Pickup Location \n",
    "    new_state[\"V\"][action[1]]['space_left'] -= autoScheduler.R[action[2]][-1]  #adjusting space after pickup \n",
    "    new_state[\"V\"][action[1]]['passengers'].append(autoScheduler.R[action[2]][-1]) #Passengers of this particular request\n",
    "elif action[0] == 'Dropoff':\n",
    "    new_state[\"V\"][action[1]]['time'] = action[-1] #action time\n",
    "    new_state[\"V\"][action[1]]['location'] = autoScheduler.R[action[2]][1] #Dropoff Location \n",
    "    new_state[\"V\"][action[1]]['space_left'] += autoScheduler.R[action[2]][-1]  #adjusting space after pickup \n",
    "    # new_state[\"V\"][action[1]]['passengers'].remove(autoScheduler.R[action[2]][-1]) #Passengers of this particular request\n",
    "new_state"
   ]
  },
  {
   "cell_type": "code",
   "execution_count": null,
   "metadata": {},
   "outputs": [],
   "source": []
  }
 ],
 "metadata": {
  "kernelspec": {
   "display_name": "Python 3",
   "language": "python",
   "name": "python3"
  },
  "language_info": {
   "codemirror_mode": {
    "name": "ipython",
    "version": 3
   },
   "file_extension": ".py",
   "mimetype": "text/x-python",
   "name": "python",
   "nbconvert_exporter": "python",
   "pygments_lexer": "ipython3",
   "version": "3.11.5"
  },
  "orig_nbformat": 4
 },
 "nbformat": 4,
 "nbformat_minor": 2
}
