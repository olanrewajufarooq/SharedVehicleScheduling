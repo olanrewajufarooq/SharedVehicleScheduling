{
 "cells": [
  {
   "cell_type": "code",
   "execution_count": 7,
   "metadata": {},
   "outputs": [],
   "source": [
    "import solution\n",
    "import glob"
   ]
  },
  {
   "cell_type": "code",
   "execution_count": 8,
   "metadata": {},
   "outputs": [
    {
     "name": "stdout",
     "output_type": "stream",
     "text": [
      "\n",
      "=================================================\n",
      "Number of Points: 4.\n",
      "P matrix: \n",
      "[[ 0. 20. 30. 40.]\n",
      " [20.  0. 50. 60.]\n",
      " [30. 50.  0. 70.]\n",
      " [40. 60. 70.  0.]]\n",
      "\n",
      "Number of Requests: 5.\n",
      "Request Data: {0: [10.0, 1, 2, 1], 1: [15.0, 1, 3, 1], 2: [16.0, 2, 3, 1], 3: [20.0, 2, 1, 1], 4: [25.0, 1, 2, 2]}\n",
      "\n",
      "Number of Vehicles: 2.\n",
      "Max passenger capacity: [4, 5]\n",
      "=================================================\n",
      "\n"
     ]
    },
    {
     "data": {
      "text/plain": [
       "[('Pickup', 1, 0, 20.0),\n",
       " ('Pickup', 0, 2, 30.0),\n",
       " ('Pickup', 1, 1, 20.0),\n",
       " ('Pickup', 1, 3, 70.0),\n",
       " ('Dropoff', 1, 0, 70.0),\n",
       " ('Pickup', 1, 4, 70.0),\n",
       " ('Dropoff', 1, 3, 70.0),\n",
       " ('Dropoff', 1, 4, 70.0),\n",
       " ('Dropoff', 0, 2, 100.0),\n",
       " ('Dropoff', 1, 1, 130.0)]"
      ]
     },
     "execution_count": 8,
     "metadata": {},
     "output_type": "execute_result"
    }
   ],
   "source": [
    "autoScheduler = solution.FleetProblem() # Initialize the problem\n",
    "with open(\"input.txt\", \"r\") as f: \n",
    "    autoScheduler.load(f) # Load the file\n",
    "    \n",
    "# print(autoScheduler.initial.__copy__())\n",
    "# print(autoScheduler.goal)\n",
    "\n",
    "print(autoScheduler)\n",
    "\n",
    "autoScheduler.solve()"
   ]
  },
  {
   "cell_type": "code",
   "execution_count": 9,
   "metadata": {
    "tags": []
   },
   "outputs": [
    {
     "name": "stdout",
     "output_type": "stream",
     "text": [
      "\n",
      "\n",
      "Exercise 1:\n",
      "Algorithm Solution: [('Pickup', 0, 0, 20.0), ('Dropoff', 0, 0, 60.0)]\n",
      "Real Solution: [('Pickup', 0, 0, 20.0), ('Dropoff', 0, 0, 60.0)]\n",
      "\n",
      "\n",
      "\n",
      "Exercise 2:\n",
      "Algorithm Solution: [('Pickup', 1, 1, 20.0), ('Dropoff', 1, 1, 80.0), ('Pickup', 0, 2, 30.0), ('Pickup', 1, 0, 80.0), ('Dropoff', 0, 2, 100.0), ('Dropoff', 1, 0, 130.0)]\n",
      "Real Solution: [('Pickup', 1, 2, 70.0), ('Dropoff', 1, 0, 70.0), ('Pickup', 1, 0, 20.0), ('Dropoff', 0, 1, 80.0), ('Dropoff', 1, 2, 140.0), ('Pickup', 0, 1, 20.0)]\n",
      "\n",
      "\n",
      "\n",
      "Exercise 3:\n",
      "Algorithm Solution: [('Pickup', 1, 0, 20.0), ('Pickup', 1, 3, 70.0), ('Pickup', 0, 1, 20.0), ('Dropoff', 0, 1, 80.0), ('Dropoff', 1, 0, 70.0), ('Dropoff', 1, 3, 70.0), ('Pickup', 1, 2, 70.0), ('Dropoff', 1, 2, 140.0)]\n",
      "Real Solution: [('Dropoff', 0, 0, 70.0), ('Pickup', 0, 1, 20.0), ('Dropoff', 0, 2, 140.0), ('Pickup', 0, 0, 20.0), ('Pickup', 0, 2, 70.0), ('Dropoff', 0, 1, 140.0), ('Pickup', 1, 3, 30.0), ('Dropoff', 1, 3, 80.0)]\n",
      "\n",
      "\n",
      "\n",
      "Exercise 4:\n",
      "Algorithm Solution: [('Pickup', 1, 0, 20.0), ('Pickup', 0, 2, 30.0), ('Pickup', 1, 1, 20.0), ('Pickup', 1, 3, 70.0), ('Dropoff', 1, 0, 70.0), ('Pickup', 1, 4, 70.0), ('Dropoff', 1, 3, 70.0), ('Dropoff', 1, 4, 70.0), ('Dropoff', 0, 2, 100.0), ('Dropoff', 1, 1, 130.0)]\n",
      "Real Solution: [('Dropoff', 0, 3, 80.0), ('Pickup', 0, 1, 80.0), ('Dropoff', 0, 2, 140.0), ('Dropoff', 1, 0, 75.0), ('Dropoff', 0, 1, 140.0), ('Pickup', 1, 0, 25.0), ('Pickup', 0, 2, 30.0), ('Pickup', 0, 3, 30.0), ('Dropoff', 1, 4, 75.0), ('Pickup', 1, 4, 25.0)]\n",
      "\n",
      "\n",
      "\n",
      "Exercise 5:\n",
      "Algorithm Solution: [('Pickup', 4, 1, 30.0), ('Pickup', 0, 3, 40.0), ('Dropoff', 0, 3, 100.0), ('Pickup', 2, 2, 30.0), ('Pickup', 4, 4, 100.0), ('Pickup', 3, 0, 20.0), ('Dropoff', 4, 1, 100.0), ('Dropoff', 4, 4, 100.0), ('Dropoff', 3, 0, 70.0), ('Dropoff', 2, 2, 80.0)]\n",
      "Real Solution: [('Dropoff', 3, 3, 100.0), ('Pickup', 3, 3, 40.0), ('Dropoff', 1, 4, 110.0), ('Pickup', 0, 0, 20.0), ('Dropoff', 4, 1, 100.0), ('Dropoff', 0, 0, 70.0), ('Pickup', 1, 4, 40.0), ('Pickup', 2, 2, 30.0), ('Dropoff', 2, 2, 80.0), ('Pickup', 4, 1, 30.0)]\n",
      "\n",
      "\n",
      "\n",
      "Exercise 6:\n",
      "Algorithm Solution: [('Pickup', 3, 2, 5.0), ('Pickup', 1, 0, 16.0), ('Pickup', 2, 3, 20.0), ('Dropoff', 2, 3, 21.0), ('Pickup', 0, 1, 22.0), ('Dropoff', 3, 2, 6.0), ('Dropoff', 1, 0, 17.0), ('Dropoff', 0, 1, 23.0)]\n",
      "Real Solution: [('Dropoff', 3, 3, 21.0), ('Pickup', 1, 0, 16.0), ('Dropoff', 2, 2, 6.0), ('Pickup', 0, 1, 22.0), ('Dropoff', 1, 0, 17.0), ('Pickup', 3, 3, 20.0), ('Pickup', 2, 2, 5.0), ('Dropoff', 0, 1, 23.0)]\n",
      "\n",
      "\n",
      "\n",
      "Exercise 7:\n",
      "Algorithm Solution: [('Pickup', 1, 0, 20.0), ('Dropoff', 1, 0, 70.0)]\n",
      "Real Solution: [('Pickup', 0, 0, 20.0), ('Dropoff', 0, 0, 70.0)]\n",
      "\n",
      "\n",
      "\n",
      "Exercise 8:\n",
      "Algorithm Solution: [('Pickup', 0, 1, 20.0), ('Dropoff', 0, 1, 80.0), ('Pickup', 0, 4, 80.0), ('Dropoff', 0, 4, 130.0), ('Pickup', 0, 0, 130.0), ('Pickup', 0, 3, 180.0), ('Dropoff', 0, 0, 180.0), ('Dropoff', 0, 3, 180.0), ('Pickup', 0, 2, 180.0), ('Dropoff', 0, 2, 250.0)]\n",
      "Real Solution: [('Dropoff', 0, 0, 70.0), ('Dropoff', 0, 1, 180.0), ('Pickup', 0, 0, 20.0), ('Pickup', 0, 1, 120.0), ('Dropoff', 0, 3, 120.0), ('Dropoff', 0, 2, 180.0), ('Pickup', 0, 2, 70.0), ('Pickup', 0, 3, 70.0), ('Dropoff', 0, 4, 290.0), ('Pickup', 0, 4, 240.0)]\n",
      "\n",
      "\n",
      "\n",
      "Exercise 9:\n",
      "Algorithm Solution: [('Pickup', 0, 0, 13.500105976178306), ('Pickup', 0, 2, 17.168613082924495), ('Dropoff', 0, 0, 17.168613082924495), ('Pickup', 0, 1, 17.168613082924495), ('Dropoff', 0, 2, 17.168613082924495), ('Pickup', 0, 3, 17.168613082924495), ('Dropoff', 0, 1, 17.168613082924495), ('Dropoff', 0, 3, 25.188451806924625), ('Pickup', 1, 4, 17.168613082924495), ('Dropoff', 1, 4, 28.856958913670816)]\n",
      "Real Solution: [('Dropoff', 0, 4, 28.856958913670816), ('Dropoff', 0, 1, 17.168613082924495), ('Dropoff', 0, 2, 20.837120189670685), ('Pickup', 0, 4, 17.168613082924495), ('Pickup', 0, 0, 13.500105976178306), ('Pickup', 0, 2, 17.168613082924495), ('Dropoff', 0, 3, 28.856958913670816), ('Pickup', 0, 3, 17.168613082924495), ('Pickup', 0, 1, 13.500105976178306), ('Dropoff', 0, 0, 17.168613082924495)]\n",
      "\n",
      "\n",
      "\n",
      "Exercise 10:\n",
      "Algorithm Solution: [('Pickup', 0, 1, 7.528947573478842), ('Dropoff', 0, 1, 18.941873274057354), ('Pickup', 2, 3, 8.229550338909169), ('Dropoff', 2, 3, 23.154288403865607), ('Pickup', 2, 2, 36.69303065104039), ('Pickup', 0, 0, 30.354798974635866), ('Dropoff', 0, 0, 39.45082864654812), ('Pickup', 1, 4, 6.009794673695941), ('Dropoff', 1, 4, 15.105824345608196), ('Dropoff', 2, 2, 50.23177289821517)]\n",
      "Real Solution: [('Pickup', 1, 4, 6.009794673695941), ('Dropoff', 2, 3, 36.71476866708119), ('Pickup', 2, 2, 8.251288354949967), ('Pickup', 0, 1, 7.528947573478842), ('Dropoff', 0, 1, 18.941873274057354), ('Pickup', 2, 3, 21.79003060212475), ('Dropoff', 0, 0, 28.03790294596961), ('Dropoff', 1, 4, 15.105824345608196), ('Pickup', 0, 0, 18.941873274057354), ('Dropoff', 2, 2, 21.79003060212475)]\n",
      "\n"
     ]
    }
   ],
   "source": [
    "count = 0\n",
    "\n",
    "for file_name in glob.glob(\"./PublicData1/*.dat\"):\n",
    "    count += 1\n",
    "    print(f\"\\n\\nExercise {count}:\")\n",
    "    autoScheduler = solution.FleetProblem() # Initialize the problem\n",
    "    with open(file_name, \"r\") as f: \n",
    "        autoScheduler.load(f) # Load the file\n",
    "    \n",
    "    sol = autoScheduler.solve() # Solving the problem\n",
    "    print(f\"Algorithm Solution: {sol}\")\n",
    "    \n",
    "    with open( file_name.replace(\".dat\", \".plan\"), \"r\" ) as f:\n",
    "        real_sol = f.readlines()[0]\n",
    "    \n",
    "    print(f\"Real Solution: {real_sol}\\n\")"
   ]
  },
  {
   "cell_type": "code",
   "execution_count": 10,
   "metadata": {},
   "outputs": [],
   "source": [
    "# count = 0\n",
    "# for file_name in glob.glob(\"./PublicData2/*.dat\"):\n",
    "#     print(f\"\\n\\nExercise {count}:\")\n",
    "#     autoScheduler = solution.FleetProblem() # Initialize the problem\n",
    "#     with open(file_name, \"r\") as f: \n",
    "#         autoScheduler.load(f) # Load the file\n",
    "    \n",
    "#     sol = autoScheduler.solve() # Solving the problem\n",
    "#     print(autoScheduler)\n",
    "#     print(f\"Algorithm Solution: {sol}\")\n",
    "    \n",
    "#     count += 1"
   ]
  },
  {
   "cell_type": "code",
   "execution_count": 6,
   "metadata": {},
   "outputs": [
    {
     "name": "stdout",
     "output_type": "stream",
     "text": [
      "\n",
      "=================================================\n",
      "Number of Points: 4.\n",
      "P matrix: \n",
      "[[ 0. 20. 30. 40.]\n",
      " [20.  0. 50. 60.]\n",
      " [30. 50.  0. 70.]\n",
      " [40. 60. 70.  0.]]\n",
      "\n",
      "Number of Requests: 3.\n",
      "Request Data: {0: [10.0, 1, 2, 2], 1: [15.0, 1, 3, 1], 2: [16.0, 2, 3, 1]}\n",
      "\n",
      "Number of Vehicles: 2.\n",
      "Max passenger capacity: [1, 2]\n",
      "=================================================\n",
      "\n",
      "Cost 1: 89.0\n",
      "Cost 2: 69.0\n"
     ]
    }
   ],
   "source": [
    "import solution\n",
    "solver = solution.FleetProblem()\n",
    "\n",
    "with open(\"PublicData2/ex1.dat\", \"r\") as f:\n",
    "    solver.load(f)\n",
    "    \n",
    "print(solver)\n",
    "\n",
    "sol1 = [('Pickup', 1, 1, 20.0), ('Dropoff', 1, 1, 80.0), ('Pickup', 0, 2, 30.0), ('Pickup', 1, 0, 80.0), ('Dropoff', 0, 2, 100.0), ('Dropoff', 1, 0, 130.0)]\n",
    "print(f\"Cost 1: {solver.cost(sol1)}\")\n",
    "\n",
    "sol2 = [('Pickup', 1, 0, 20.0), ('Dropoff', 1, 0, 70.0), ('Pickup', 1, 2, 70.0), ('Pickup', 0, 1, 20.0), ('Dropoff', 0, 1, 80.0), ('Dropoff', 1, 2, 140.0)]\n",
    "print(f\"Cost 2: {solver.cost(sol2)}\")"
   ]
  }
 ],
 "metadata": {
  "kernelspec": {
   "display_name": "Python 3",
   "language": "python",
   "name": "python3"
  },
  "language_info": {
   "codemirror_mode": {
    "name": "ipython",
    "version": 3
   },
   "file_extension": ".py",
   "mimetype": "text/x-python",
   "name": "python",
   "nbconvert_exporter": "python",
   "pygments_lexer": "ipython3",
   "version": "3.11.0"
  },
  "orig_nbformat": 4
 },
 "nbformat": 4,
 "nbformat_minor": 2
}
