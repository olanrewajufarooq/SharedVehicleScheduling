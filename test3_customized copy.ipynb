{
 "cells": [
  {
   "cell_type": "code",
   "execution_count": null,
   "metadata": {},
   "outputs": [],
   "source": [
    "import solution\n",
    "import glob"
   ]
  },
  {
   "cell_type": "code",
   "execution_count": null,
   "metadata": {
    "tags": []
   },
   "outputs": [],
   "source": [
    "count = 0\n",
    "\n",
    "for file_name in glob.glob(\"./PublicData3/*.dat\"):\n",
    "    print(f\"\\n\\nExercise {count}:\")\n",
    "    autoScheduler = solution.FleetProblem() # Initialize the problem\n",
    "    with open(file_name, \"r\") as f: \n",
    "        autoScheduler.load(f) # Load the file\n",
    "        \n",
    "    # print(autoScheduler)\n",
    "    \n",
    "    sol = autoScheduler.solve() # Solving the problem\n",
    "    print(f\"Our Solution: {sol}\")\n",
    "    \n",
    "    count += 1\n",
    "    \n",
    "    # if count > 2:\n",
    "    #     break"
   ]
  },
  {
   "cell_type": "code",
   "execution_count": null,
   "metadata": {},
   "outputs": [],
   "source": [
    "# import solution\n",
    "# solver = solution.FleetProblem()\n",
    "\n",
    "# with open(\"PublicData3/ex1.dat\", \"r\") as f:\n",
    "#     solver.load(f)\n",
    "    \n",
    "# print(solver)\n",
    "\n",
    "# sol1 = solver.solve()\n",
    "# print(f\"Cost 1: {solver.cost(sol1)}. Solution: {sol1}\")"
   ]
  },
  {
   "cell_type": "code",
   "execution_count": null,
   "metadata": {},
   "outputs": [],
   "source": []
  }
 ],
 "metadata": {
  "kernelspec": {
   "display_name": "Python 3",
   "language": "python",
   "name": "python3"
  },
  "language_info": {
   "codemirror_mode": {
    "name": "ipython",
    "version": 3
   },
   "file_extension": ".py",
   "mimetype": "text/x-python",
   "name": "python",
   "nbconvert_exporter": "python",
   "pygments_lexer": "ipython3",
   "version": "3.11.0"
  },
  "orig_nbformat": 4
 },
 "nbformat": 4,
 "nbformat_minor": 2
}
