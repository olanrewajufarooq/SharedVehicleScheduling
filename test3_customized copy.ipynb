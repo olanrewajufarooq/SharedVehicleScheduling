{
 "cells": [
  {
   "cell_type": "code",
   "execution_count": 1,
   "metadata": {},
   "outputs": [],
   "source": [
    "import solution\n",
    "import glob"
   ]
  },
  {
   "cell_type": "code",
   "execution_count": 2,
   "metadata": {
    "tags": []
   },
   "outputs": [
    {
     "name": "stdout",
     "output_type": "stream",
     "text": [
      "\n",
      "\n",
      "Exercise 0:\n",
      "\n",
      "=================================================\n",
      "Number of Points: 3.\n",
      "P matrix: \n",
      "[[ 0. 20. 30.]\n",
      " [20.  0. 40.]\n",
      " [30. 40.  0.]]\n",
      "\n",
      "Number of Requests: 1.\n",
      "Request Data: {0: [10.0, 1, 2, 1]}\n",
      "\n",
      "Number of Vehicles: 1.\n",
      "Max passenger capacity: [4]\n",
      "=================================================\n",
      "\n"
     ]
    },
    {
     "ename": "AttributeError",
     "evalue": "'Node' object has no attribute 'vehicles'",
     "output_type": "error",
     "traceback": [
      "\u001b[1;31m---------------------------------------------------------------------------\u001b[0m",
      "\u001b[1;31mAttributeError\u001b[0m                            Traceback (most recent call last)",
      "\u001b[1;32mc:\\Users\\olanr\\Downloads\\SharedVehicleScheduling\\test3_customized copy.ipynb Cell 2\u001b[0m line \u001b[0;36m1\n\u001b[0;32m      <a href='vscode-notebook-cell:/c%3A/Users/olanr/Downloads/SharedVehicleScheduling/test3_customized%20copy.ipynb#W3sZmlsZQ%3D%3D?line=6'>7</a>\u001b[0m     autoScheduler\u001b[39m.\u001b[39mload(f) \u001b[39m# Load the file\u001b[39;00m\n\u001b[0;32m      <a href='vscode-notebook-cell:/c%3A/Users/olanr/Downloads/SharedVehicleScheduling/test3_customized%20copy.ipynb#W3sZmlsZQ%3D%3D?line=8'>9</a>\u001b[0m \u001b[39mprint\u001b[39m(autoScheduler)\n\u001b[1;32m---> <a href='vscode-notebook-cell:/c%3A/Users/olanr/Downloads/SharedVehicleScheduling/test3_customized%20copy.ipynb#W3sZmlsZQ%3D%3D?line=10'>11</a>\u001b[0m sol \u001b[39m=\u001b[39m autoScheduler\u001b[39m.\u001b[39;49msolve() \u001b[39m# Solving the problem\u001b[39;00m\n\u001b[0;32m     <a href='vscode-notebook-cell:/c%3A/Users/olanr/Downloads/SharedVehicleScheduling/test3_customized%20copy.ipynb#W3sZmlsZQ%3D%3D?line=11'>12</a>\u001b[0m \u001b[39mprint\u001b[39m(\u001b[39mf\u001b[39m\u001b[39m\"\u001b[39m\u001b[39mOur Solution: \u001b[39m\u001b[39m{\u001b[39;00msol\u001b[39m}\u001b[39;00m\u001b[39m\"\u001b[39m)\n\u001b[0;32m     <a href='vscode-notebook-cell:/c%3A/Users/olanr/Downloads/SharedVehicleScheduling/test3_customized%20copy.ipynb#W3sZmlsZQ%3D%3D?line=13'>14</a>\u001b[0m count \u001b[39m+\u001b[39m\u001b[39m=\u001b[39m \u001b[39m1\u001b[39m\n",
      "File \u001b[1;32mc:\\Users\\olanr\\Downloads\\SharedVehicleScheduling\\solution.py:385\u001b[0m, in \u001b[0;36mFleetProblem.solve\u001b[1;34m(self)\u001b[0m\n\u001b[0;32m    377\u001b[0m \u001b[39mdef\u001b[39;00m \u001b[39msolve\u001b[39m(\u001b[39mself\u001b[39m):\n\u001b[0;32m    378\u001b[0m     \u001b[39m\"\"\"A function to call a solver for the search problem\u001b[39;00m\n\u001b[0;32m    379\u001b[0m \n\u001b[0;32m    380\u001b[0m \u001b[39m    Returns:\u001b[39;00m\n\u001b[0;32m    381\u001b[0m \u001b[39m        list: a list of all actions taken to reach the goal\u001b[39;00m\n\u001b[0;32m    382\u001b[0m \u001b[39m    \"\"\"\u001b[39;00m\n\u001b[1;32m--> 385\u001b[0m     goal_node \u001b[39m=\u001b[39m search\u001b[39m.\u001b[39;49mastar_search(\u001b[39mself\u001b[39;49m)\n\u001b[0;32m    387\u001b[0m     \u001b[39mreturn\u001b[39;00m goal_node\u001b[39m.\u001b[39msolution()\n",
      "File \u001b[1;32mc:\\Users\\olanr\\Downloads\\SharedVehicleScheduling\\search.py:420\u001b[0m, in \u001b[0;36mastar_search\u001b[1;34m(problem, h, display)\u001b[0m\n\u001b[0;32m    416\u001b[0m \u001b[39m\"\"\"A* search is best-first graph search with f(n) = g(n)+h(n).\u001b[39;00m\n\u001b[0;32m    417\u001b[0m \u001b[39mYou need to specify the h function when you call astar_search, or\u001b[39;00m\n\u001b[0;32m    418\u001b[0m \u001b[39melse in your Problem subclass.\"\"\"\u001b[39;00m\n\u001b[0;32m    419\u001b[0m h \u001b[39m=\u001b[39m memoize(h \u001b[39mor\u001b[39;00m problem\u001b[39m.\u001b[39mh, \u001b[39m'\u001b[39m\u001b[39mh\u001b[39m\u001b[39m'\u001b[39m)\n\u001b[1;32m--> 420\u001b[0m \u001b[39mreturn\u001b[39;00m best_first_graph_search(problem, \u001b[39mlambda\u001b[39;49;00m n: n\u001b[39m.\u001b[39;49mpath_cost \u001b[39m+\u001b[39;49m h(n), display)\n",
      "File \u001b[1;32mc:\\Users\\olanr\\Downloads\\SharedVehicleScheduling\\search.py:271\u001b[0m, in \u001b[0;36mbest_first_graph_search\u001b[1;34m(problem, f, display)\u001b[0m\n\u001b[0;32m    269\u001b[0m node \u001b[39m=\u001b[39m Node(problem\u001b[39m.\u001b[39minitial)\n\u001b[0;32m    270\u001b[0m frontier \u001b[39m=\u001b[39m PriorityQueue(\u001b[39m'\u001b[39m\u001b[39mmin\u001b[39m\u001b[39m'\u001b[39m, f)\n\u001b[1;32m--> 271\u001b[0m frontier\u001b[39m.\u001b[39;49mappend(node)\n\u001b[0;32m    272\u001b[0m explored \u001b[39m=\u001b[39m \u001b[39mset\u001b[39m()\n\u001b[0;32m    273\u001b[0m \u001b[39mwhile\u001b[39;00m frontier:\n",
      "File \u001b[1;32mc:\\Users\\olanr\\Downloads\\SharedVehicleScheduling\\utils.py:740\u001b[0m, in \u001b[0;36mPriorityQueue.append\u001b[1;34m(self, item)\u001b[0m\n\u001b[0;32m    738\u001b[0m \u001b[39mdef\u001b[39;00m \u001b[39mappend\u001b[39m(\u001b[39mself\u001b[39m, item):\n\u001b[0;32m    739\u001b[0m     \u001b[39m\"\"\"Insert item at its correct position.\"\"\"\u001b[39;00m\n\u001b[1;32m--> 740\u001b[0m     heapq\u001b[39m.\u001b[39mheappush(\u001b[39mself\u001b[39m\u001b[39m.\u001b[39mheap, (\u001b[39mself\u001b[39;49m\u001b[39m.\u001b[39;49mf(item), item))\n",
      "File \u001b[1;32mc:\\Users\\olanr\\Downloads\\SharedVehicleScheduling\\utils.py:417\u001b[0m, in \u001b[0;36mmemoize.<locals>.memoized_fn\u001b[1;34m(obj, *args)\u001b[0m\n\u001b[0;32m    415\u001b[0m     \u001b[39mreturn\u001b[39;00m \u001b[39mgetattr\u001b[39m(obj, slot)\n\u001b[0;32m    416\u001b[0m \u001b[39melse\u001b[39;00m:\n\u001b[1;32m--> 417\u001b[0m     val \u001b[39m=\u001b[39m fn(obj, \u001b[39m*\u001b[39;49margs)\n\u001b[0;32m    418\u001b[0m     \u001b[39msetattr\u001b[39m(obj, slot, val)\n\u001b[0;32m    419\u001b[0m     \u001b[39mreturn\u001b[39;00m val\n",
      "File \u001b[1;32mc:\\Users\\olanr\\Downloads\\SharedVehicleScheduling\\search.py:420\u001b[0m, in \u001b[0;36mastar_search.<locals>.<lambda>\u001b[1;34m(n)\u001b[0m\n\u001b[0;32m    416\u001b[0m \u001b[39m\"\"\"A* search is best-first graph search with f(n) = g(n)+h(n).\u001b[39;00m\n\u001b[0;32m    417\u001b[0m \u001b[39mYou need to specify the h function when you call astar_search, or\u001b[39;00m\n\u001b[0;32m    418\u001b[0m \u001b[39melse in your Problem subclass.\"\"\"\u001b[39;00m\n\u001b[0;32m    419\u001b[0m h \u001b[39m=\u001b[39m memoize(h \u001b[39mor\u001b[39;00m problem\u001b[39m.\u001b[39mh, \u001b[39m'\u001b[39m\u001b[39mh\u001b[39m\u001b[39m'\u001b[39m)\n\u001b[1;32m--> 420\u001b[0m \u001b[39mreturn\u001b[39;00m best_first_graph_search(problem, \u001b[39mlambda\u001b[39;00m n: n\u001b[39m.\u001b[39mpath_cost \u001b[39m+\u001b[39m h(n), display)\n",
      "File \u001b[1;32mc:\\Users\\olanr\\Downloads\\SharedVehicleScheduling\\utils.py:417\u001b[0m, in \u001b[0;36mmemoize.<locals>.memoized_fn\u001b[1;34m(obj, *args)\u001b[0m\n\u001b[0;32m    415\u001b[0m     \u001b[39mreturn\u001b[39;00m \u001b[39mgetattr\u001b[39m(obj, slot)\n\u001b[0;32m    416\u001b[0m \u001b[39melse\u001b[39;00m:\n\u001b[1;32m--> 417\u001b[0m     val \u001b[39m=\u001b[39m fn(obj, \u001b[39m*\u001b[39;49margs)\n\u001b[0;32m    418\u001b[0m     \u001b[39msetattr\u001b[39m(obj, slot, val)\n\u001b[0;32m    419\u001b[0m     \u001b[39mreturn\u001b[39;00m val\n",
      "File \u001b[1;32mc:\\Users\\olanr\\Downloads\\SharedVehicleScheduling\\solution.py:316\u001b[0m, in \u001b[0;36mFleetProblem.h\u001b[1;34m(self, state)\u001b[0m\n\u001b[0;32m    315\u001b[0m \u001b[39mdef\u001b[39;00m \u001b[39mh\u001b[39m(\u001b[39mself\u001b[39m,state):\n\u001b[1;32m--> 316\u001b[0m     max_heur \u001b[39m=\u001b[39m \u001b[39mmax\u001b[39m(\u001b[39mself\u001b[39m\u001b[39m.\u001b[39mheur1(state), \u001b[39mself\u001b[39;49m\u001b[39m.\u001b[39;49mheur2(state))\n\u001b[0;32m    318\u001b[0m     \u001b[39mreturn\u001b[39;00m max_heur\n",
      "File \u001b[1;32mc:\\Users\\olanr\\Downloads\\SharedVehicleScheduling\\solution.py:345\u001b[0m, in \u001b[0;36mFleetProblem.heur2\u001b[1;34m(self, state)\u001b[0m\n\u001b[0;32m    341\u001b[0m \u001b[39mdef\u001b[39;00m \u001b[39mheur2\u001b[39m(\u001b[39mself\u001b[39m, state):\n\u001b[0;32m    343\u001b[0m     estimated_cost \u001b[39m=\u001b[39m np\u001b[39m.\u001b[39mzeros(shape\u001b[39m=\u001b[39m\u001b[39mself\u001b[39m\u001b[39m.\u001b[39mno_of_requests)\n\u001b[1;32m--> 345\u001b[0m     \u001b[39mfor\u001b[39;00m veh_id, veh_values \u001b[39min\u001b[39;00m \u001b[39menumerate\u001b[39m(state\u001b[39m.\u001b[39;49mvehicles): \u001b[39m# Getting possible actions for each vehicle\u001b[39;00m\n\u001b[0;32m    347\u001b[0m         \u001b[39mif\u001b[39;00m \u001b[39mlen\u001b[39m(veh_values\u001b[39m.\u001b[39mpassengers) \u001b[39m!=\u001b[39m \u001b[39m0\u001b[39m: \u001b[39m# Checking if the vehicle is carrying any passenger\u001b[39;00m\n\u001b[0;32m    349\u001b[0m             \u001b[39mfor\u001b[39;00m req_id, pickup_time \u001b[39min\u001b[39;00m \u001b[39mzip\u001b[39m(veh_values\u001b[39m.\u001b[39mpassengers, veh_values\u001b[39m.\u001b[39mpickup_times):\n\u001b[0;32m    350\u001b[0m                 \n\u001b[0;32m    351\u001b[0m                 \u001b[39m# Current veh time + time to move from current position to dropoff point.\u001b[39;00m\n",
      "\u001b[1;31mAttributeError\u001b[0m: 'Node' object has no attribute 'vehicles'"
     ]
    }
   ],
   "source": [
    "count = 0\n",
    "\n",
    "for file_name in glob.glob(\"./PublicData3/*.dat\"):\n",
    "    print(f\"\\n\\nExercise {count}:\")\n",
    "    autoScheduler = solution.FleetProblem() # Initialize the problem\n",
    "    with open(file_name, \"r\") as f: \n",
    "        autoScheduler.load(f) # Load the file\n",
    "        \n",
    "    print(autoScheduler)\n",
    "    \n",
    "    sol = autoScheduler.solve() # Solving the problem\n",
    "    print(f\"Our Solution: {sol}\")\n",
    "    \n",
    "    count += 1\n",
    "    \n",
    "    # if count > 2:\n",
    "    #     break"
   ]
  },
  {
   "cell_type": "code",
   "execution_count": null,
   "metadata": {},
   "outputs": [],
   "source": [
    "import solution\n",
    "solver = solution.FleetProblem()\n",
    "\n",
    "with open(\"PublicData3/ex1.dat\", \"r\") as f:\n",
    "    solver.load(f)\n",
    "    \n",
    "print(solver)\n",
    "\n",
    "sol1 = solver.solve()\n",
    "print(f\"Cost 1: {solver.cost(sol1)}. Solution: {sol1}\")"
   ]
  },
  {
   "cell_type": "code",
   "execution_count": null,
   "metadata": {},
   "outputs": [],
   "source": []
  }
 ],
 "metadata": {
  "kernelspec": {
   "display_name": "Python 3",
   "language": "python",
   "name": "python3"
  },
  "language_info": {
   "codemirror_mode": {
    "name": "ipython",
    "version": 3
   },
   "file_extension": ".py",
   "mimetype": "text/x-python",
   "name": "python",
   "nbconvert_exporter": "python",
   "pygments_lexer": "ipython3",
   "version": "3.11.0"
  },
  "orig_nbformat": 4
 },
 "nbformat": 4,
 "nbformat_minor": 2
}
