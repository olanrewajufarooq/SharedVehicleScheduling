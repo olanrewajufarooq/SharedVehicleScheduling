{
 "cells": [
  {
   "cell_type": "code",
   "execution_count": 1,
   "metadata": {},
   "outputs": [],
   "source": [
    "import solution\n",
    "import glob"
   ]
  },
  {
   "cell_type": "code",
   "execution_count": 2,
   "metadata": {
    "tags": []
   },
   "outputs": [
    {
     "name": "stdout",
     "output_type": "stream",
     "text": [
      "\n",
      "\n",
      "Exercise 0:\n",
      "2 paths have been expanded and 0 paths remain in the frontier\n",
      "Cost: 10.0\n",
      "Goal Estimates: [10.0, 10.0]\n",
      "Solution: [('Pickup', 0, 0, 20.0), ('Dropoff', 0, 0, 60.0)]\n",
      "\n",
      "\n",
      "Exercise 1:\n",
      "14 paths have been expanded and 13 paths remain in the frontier\n",
      "Cost: 69.0\n",
      "Goal Estimates: [149.0, 139.0, 139.0, 69.0, 69.0, 69.0]\n",
      "Solution: [('Pickup', 0, 1, 20.0), ('Pickup', 1, 0, 20.0), ('Dropoff', 1, 0, 70.0), ('Pickup', 1, 2, 70.0), ('Dropoff', 0, 1, 80.0), ('Dropoff', 1, 2, 140.0)]\n",
      "\n",
      "\n",
      "Exercise 2:\n",
      "54 paths have been expanded and 53 paths remain in the frontier\n",
      "Cost: 139.0\n",
      "Goal Estimates: [199.0, 149.0, 99.0, 99.0, 99.0, 99.0, 99.0, 139.0]\n",
      "Solution: [('Pickup', 0, 2, 30.0), ('Pickup', 0, 3, 30.0), ('Pickup', 1, 0, 20.0), ('Dropoff', 0, 3, 80.0), ('Pickup', 0, 1, 80.0), ('Dropoff', 1, 0, 70.0), ('Dropoff', 0, 1, 140.0), ('Dropoff', 0, 2, 140.0)]\n",
      "\n",
      "\n",
      "Exercise 3:\n",
      "134 paths have been expanded and 195 paths remain in the frontier\n",
      "Cost: 144.0\n",
      "Goal Estimates: [244.0, 194.0, 144.0, 104.0, 99.0, 99.0, 99.0, 99.0, 104.0, 144.0]\n",
      "Solution: [('Pickup', 0, 2, 30.0), ('Pickup', 0, 3, 30.0), ('Pickup', 1, 0, 20.0), ('Pickup', 1, 4, 25.0), ('Pickup', 0, 1, 80.0), ('Dropoff', 0, 3, 80.0), ('Dropoff', 0, 1, 140.0), ('Dropoff', 1, 4, 75.0), ('Dropoff', 1, 0, 75.0), ('Dropoff', 0, 2, 140.0)]\n",
      "\n",
      "\n",
      "Exercise 4:\n",
      "24 paths have been expanded and 68 paths remain in the frontier\n",
      "Cost: 87.0\n",
      "Goal Estimates: [317.0, 247.0, 187.0, 137.0, 87.0, 87.0, 87.0, 87.0, 87.0, 87.0]\n",
      "Solution: [('Pickup', 0, 1, 30.0), ('Pickup', 1, 4, 40.0), ('Pickup', 2, 3, 40.0), ('Pickup', 3, 0, 20.0), ('Pickup', 4, 2, 30.0), ('Dropoff', 2, 3, 100.0), ('Dropoff', 4, 2, 80.0), ('Dropoff', 3, 0, 70.0), ('Dropoff', 0, 1, 100.0), ('Dropoff', 1, 4, 110.0)]\n",
      "\n",
      "\n",
      "Exercise 5:\n",
      "35 paths have been expanded and 143 paths remain in the frontier\n",
      "Cost: 2.832334879439538\n",
      "Goal Estimates: [8.039403313052041, 6.388766750799978, 4.856795048786789, 3.6634219416112312, 2.8323348794395384, 2.8323348794395384, 2.8323348794395384, 2.8323348794395384, 2.8323348794395384, 2.8323348794395384]\n",
      "Solution: [('Pickup', 2, 1, 8.106361210251121), ('Pickup', 1, 0, 3.5793676205426856), ('Pickup', 6, 3, 4.93006330735699), ('Pickup', 8, 4, 3.484700187447399), ('Pickup', 3, 2, 6.521754255626227), ('Dropoff', 3, 2, 9.72687115020595), ('Dropoff', 2, 1, 12.081476894915102), ('Dropoff', 6, 3, 8.495866649748294), ('Dropoff', 8, 4, 4.678073294622957), ('Dropoff', 1, 0, 6.0420446575583995)]\n",
      "\n",
      "\n",
      "Exercise 6:\n",
      "97 paths have been expanded and 731 paths remain in the frontier\n",
      "Cost: 16.84923567592603\n",
      "Goal Estimates: [66.96728916798058, 54.681725673548165, 42.85967982686385, 33.94226035044321, 25.426225874485148, 16.910191398527083, 16.84923567592603, 16.84923567592603, 16.84923567592603, 16.84923567592603, 16.84923567592603, 16.84923567592603, 16.84923567592603, 16.84923567592603]\n",
      "Solution: [('Pickup', 8, 5, 7.973777782485575), ('Pickup', 6, 2, 6.505431764518008), ('Pickup', 14, 4, 6.968949412266112), ('Pickup', 7, 1, 7.973777782485575), ('Pickup', 0, 6, 6.617626740807761), ('Pickup', 10, 0, 6.617626740807761), ('Pickup', 11, 3, 5.946947481441105), ('Dropoff', 11, 3, 9.934531505130854), ('Dropoff', 0, 6, 15.133661216765827), ('Dropoff', 14, 4, 19.87395291237649), ('Dropoff', 7, 1, 16.891197258906207), ('Dropoff', 10, 0, 15.133661216765827), ('Dropoff', 8, 5, 20.878781282595956), ('Dropoff', 6, 2, 19.41043526462839)]\n",
      "\n",
      "\n",
      "Exercise 7:\n",
      "49 paths have been expanded and 269 paths remain in the frontier\n",
      "Cost: -2.220446049250313e-15\n",
      "Goal Estimates: [16.526338950993285, 7.982094114427667, 3.8663546818724193, 2.010935843984292, 0.546029493320157, 0.0, 0.0, 0.0, 0.0, 0.0, 0.0, 0.0]\n",
      "Solution: [('Pickup', 2, 1, 19.293387453063527), ('Pickup', 6, 5, 14.137680861740014), ('Pickup', 9, 3, 2.670792987265716), ('Pickup', 7, 4, 9.400394840288818), ('Pickup', 8, 0, 9.743222903659932), ('Pickup', 0, 2, 10.492413540443666), ('Dropoff', 2, 1, 23.146291291763276), ('Dropoff', 9, 3, 6.58070126220319), ('Dropoff', 6, 5, 18.824678602862036), ('Dropoff', 0, 2, 15.032166575024856), ('Dropoff', 8, 0, 14.26658296077872), ('Dropoff', 7, 4, 14.075507256262574)]\n",
      "\n",
      "\n",
      "Exercise 8:\n",
      "75 paths have been expanded and 3035 paths remain in the frontier\n",
      "Cost: 1.5841388494683923\n",
      "Goal Estimates: [19.847337996026596, 12.57223776939523, 9.825757138992959, 7.363976227939284, 4.905047781456965, 2.6903840371683834, 1.8093235905877707, 1.5841388494683932, 1.5841388494683932, 1.5841388494683932, 1.5841388494683932, 1.5841388494683932, 1.5841388494683932, 1.5841388494683932, 1.5841388494683932, 1.5841388494683932]\n",
      "Solution: [('Pickup', 2, 4, 9.283384064338998), ('Pickup', 15, 5, 8.920846220747684), ('Pickup', 4, 1, 5.50006637825831), ('Pickup', 29, 3, 2.4491128949729872), ('Pickup', 32, 6, 3.4868285470638325), ('Pickup', 33, 7, 1.8449022684435206), ('Pickup', 12, 2, 1.402196246637069), ('Pickup', 43, 0, 2.157334086170034), ('Dropoff', 2, 4, 10.12851393662481), ('Dropoff', 15, 5, 9.898223992273419), ('Dropoff', 4, 1, 7.31017081168696), ('Dropoff', 32, 6, 3.7028242240235416), ('Dropoff', 29, 3, 4.910893806026662), ('Dropoff', 33, 7, 4.059566012732102), ('Dropoff', 43, 0, 3.440636729582753), ('Dropoff', 12, 2, 2.9787750160042528)]\n",
      "\n",
      "\n",
      "Exercise 9:\n",
      "301 paths have been expanded and 577 paths remain in the frontier\n",
      "Cost: 139.0492583219812\n",
      "Goal Estimates: [79.40473691059427, 111.70078768440712, 116.54235337619016, 116.54235337619016, 107.1360527021545, 111.10643766301452, 101.1045960319808, 136.1159774047835, 136.1159774047835, 136.76651615765982, 140.8887592207646, 145.7401962409171, 139.932871738578, 129.9310301075443, 129.9310301075443, 139.0492583219812]\n",
      "Solution: [('Pickup', 0, 6, 4.742470107490403), ('Pickup', 0, 4, 13.790985613641812), ('Pickup', 0, 3, 18.71469669938413), ('Dropoff', 0, 4, 18.71469669938413), ('Pickup', 0, 7, 18.71469669938413), ('Dropoff', 0, 6, 18.71469669938413), ('Pickup', 0, 0, 18.71469669938413), ('Dropoff', 0, 0, 28.71653833041784), ('Dropoff', 0, 3, 28.71653833041784), ('Pickup', 0, 5, 32.24324043652457), ('Dropoff', 0, 7, 32.24324043652457), ('Dropoff', 0, 5, 41.57726704497043), ('Pickup', 0, 2, 41.57726704497043), ('Pickup', 0, 1, 46.500978130712745), ('Dropoff', 0, 1, 56.50281976174645), ('Dropoff', 0, 2, 56.50281976174645)]\n"
     ]
    }
   ],
   "source": [
    "count = 0\n",
    "\n",
    "for file_name in glob.glob(\"./PublicData3/*.dat\"):\n",
    "    # if count in [6, 8]:\n",
    "    #     count += 1\n",
    "    #     continue\n",
    "    print(f\"\\n\\nExercise {count}:\")\n",
    "    autoScheduler = solution.FleetProblem() # Initialize the problem\n",
    "    with open(file_name, \"r\") as f: \n",
    "        autoScheduler.load(f) # Load the file\n",
    "        \n",
    "    # print(autoScheduler)\n",
    "    \n",
    "    sol = autoScheduler.solve(display_solutions=True) # Solving the problem\n",
    "    # print(f\"Our Solution: {sol}\")\n",
    "    # print(f\"Goal Estimates: {f_to_sol}\")\n",
    "    # print(f\"Cost: {autoScheduler.cost(sol)}\")\n",
    "    \n",
    "    count += 1\n",
    "    \n",
    "    # if count == 6:\n",
    "    #     break"
   ]
  },
  {
   "cell_type": "markdown",
   "metadata": {},
   "source": [
    "Exercise 0:\n",
    "2 paths have been expanded and 0 paths remain in the frontier\n",
    "Cost: 10.0\n",
    "\n",
    "\n",
    "Exercise 1:\n",
    "16 paths have been expanded and 14 paths remain in the frontier\n",
    "Cost: 69.0\n",
    "\n",
    "\n",
    "Exercise 2:\n",
    "105 paths have been expanded and 203 paths remain in the frontier\n",
    "Cost: 139.0\n",
    "\n",
    "\n",
    "Exercise 3:\n",
    "140 paths have been expanded and 428 paths remain in the frontier\n",
    "Cost: 144.0\n",
    "\n",
    "\n",
    "Exercise 4:\n",
    "177 paths have been expanded and 920 paths remain in the frontier\n",
    "Cost: 87.0\n",
    "\n",
    "\n",
    "Exercise 5:\n",
    "51 paths have been expanded and 205 paths remain in the frontier\n",
    "Cost: 2.832334879439538\n",
    "\n",
    "\n",
    "Exercise 7:\n",
    "225 paths have been expanded and 367 paths remain in the frontier\n",
    "Cost: 4.542734978545324\n",
    "\n",
    "\n",
    "Exercise 9:\n",
    "800 paths have been expanded and 1463 paths remain in the frontier\n",
    "Cost: 139.0492583219812"
   ]
  },
  {
   "cell_type": "code",
   "execution_count": 3,
   "metadata": {},
   "outputs": [],
   "source": [
    "# import solution\n",
    "# solver = solution.FleetProblem()\n",
    "\n",
    "# with open(\"PublicData3/ex1.dat\", \"r\") as f:\n",
    "#     solver.load(f)\n",
    "\n",
    "# print(solver.initial.vehicles)    \n",
    "# solver.initial.vehicles[0].time = 2\n",
    "# solver.initial.vehicles[1].time = 1\n",
    "\n",
    "# solver.initial.vehicles = sorted(solver.initial.vehicles)\n",
    "# print(solver.initial.vehicles)"
   ]
  },
  {
   "cell_type": "code",
   "execution_count": 4,
   "metadata": {},
   "outputs": [
    {
     "data": {
      "text/plain": [
       "array([1., 1., 1.])"
      ]
     },
     "execution_count": 4,
     "metadata": {},
     "output_type": "execute_result"
    }
   ],
   "source": [
    "import numpy as np\n",
    "\n",
    "np.ones(3)"
   ]
  }
 ],
 "metadata": {
  "kernelspec": {
   "display_name": "Python 3",
   "language": "python",
   "name": "python3"
  },
  "language_info": {
   "codemirror_mode": {
    "name": "ipython",
    "version": 3
   },
   "file_extension": ".py",
   "mimetype": "text/x-python",
   "name": "python",
   "nbconvert_exporter": "python",
   "pygments_lexer": "ipython3",
   "version": "3.11.0"
  },
  "orig_nbformat": 4
 },
 "nbformat": 4,
 "nbformat_minor": 2
}
